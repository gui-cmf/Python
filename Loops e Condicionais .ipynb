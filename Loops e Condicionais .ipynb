{
 "cells": [
  {
   "cell_type": "code",
   "execution_count": 7,
   "metadata": {},
   "outputs": [
    {
     "name": "stdout",
     "output_type": "stream",
     "text": [
      "certo\n"
     ]
    }
   ],
   "source": [
    "if 5 > 10:\n",
    "    print ('errado')\n",
    "else:\n",
    "    print ('certo')"
   ]
  },
  {
   "cell_type": "code",
   "execution_count": 8,
   "metadata": {},
   "outputs": [
    {
     "name": "stdout",
     "output_type": "stream",
     "text": [
      "oi\n"
     ]
    }
   ],
   "source": [
    "idade = 30\n",
    "if idade > 17:\n",
    "    print ('oi')\n",
    "else:\n",
    "    print ('tchau')"
   ]
  },
  {
   "cell_type": "code",
   "execution_count": 15,
   "metadata": {},
   "outputs": [
    {
     "name": "stdout",
     "output_type": "stream",
     "text": [
      "é a joaquina \n"
     ]
    }
   ],
   "source": [
    "nome = 'joaquina'\n",
    "if idade > 18:\n",
    "    if nome == 'joaquina':\n",
    "        print ('é a joaquina ')\n",
    "    else:\n",
    "        print ('não é a joaquina')\n",
    "            \n",
    "    \n"
   ]
  },
  {
   "cell_type": "code",
   "execution_count": 16,
   "metadata": {},
   "outputs": [
    {
     "name": "stdout",
     "output_type": "stream",
     "text": [
      "joaquina\n"
     ]
    }
   ],
   "source": [
    "if idade > 18 and nome == 'joaquina':\n",
    "    print ('joaquina')\n",
    "else:('não é a joaquina')\n"
   ]
  },
  {
   "cell_type": "code",
   "execution_count": 19,
   "metadata": {},
   "outputs": [
    {
     "name": "stdout",
     "output_type": "stream",
     "text": [
      "numero é 18\n"
     ]
    }
   ],
   "source": [
    "#elif \n",
    "\n",
    "numero = 18\n",
    "if numero == 18:\n",
    "    print ('numero é 18')\n",
    "elif numero == 30:\n",
    "    print ('numero é 30')\n",
    "else:\n",
    "    print ('não sei')"
   ]
  },
  {
   "cell_type": "code",
   "execution_count": 30,
   "metadata": {},
   "outputs": [
    {
     "name": "stdout",
     "output_type": "stream",
     "text": [
      "nome da disciplina: matematica\n",
      "sua nota aqui: 99\n",
      "aprovado\n"
     ]
    }
   ],
   "source": [
    "# usando mais de uma condição na clausula if \n",
    "\n",
    "disciplina = input(\"nome da disciplina: \")\n",
    "nota_final = input(\"sua nota aqui: \")\n",
    "\n",
    "if disciplina == \"matematica\" and nota_final > '50':\n",
    "    print (\"aprovado\")\n",
    "else:\n",
    "    print (\"vala\")"
   ]
  },
  {
   "cell_type": "code",
   "execution_count": 43,
   "metadata": {},
   "outputs": [
    {
     "name": "stdout",
     "output_type": "stream",
     "text": [
      "nome da disciplina: matematica\n",
      "sua nota aqui: 89\n",
      "seu semestre aqui: 7\n",
      "você foi aprovado no disciplina matematica com media '89' \n"
     ]
    }
   ],
   "source": [
    "#usando mais de uma condicao na clausula if e introduzindo placeholders\n",
    "disciplina = input(\"nome da disciplina: \")\n",
    "nota_final = input(\"sua nota aqui: \")\n",
    "semestre = input(\"seu semestre aqui: \")\n",
    "\n",
    "if disciplina == \"matematica\" and nota_final > '50' and semestre > '6':\n",
    "    print (\"você foi aprovado no disciplina %s com media %r \" %(disciplina, nota_final))\n",
    "else:\n",
    "    print (\"vala\")"
   ]
  },
  {
   "cell_type": "code",
   "execution_count": 47,
   "metadata": {},
   "outputs": [
    {
     "name": "stdout",
     "output_type": "stream",
     "text": [
      "1\n",
      "2\n",
      "3\n",
      "4\n",
      "5\n"
     ]
    }
   ],
   "source": [
    "# criando uma tupla e imprimindo cada um dos valores \n",
    "tupla = (1,2,3,4,5)\n",
    "tupla\n",
    "for i in tupla:\n",
    "    print(i)"
   ]
  },
  {
   "cell_type": "code",
   "execution_count": 49,
   "metadata": {},
   "outputs": [
    {
     "name": "stdout",
     "output_type": "stream",
     "text": [
      "jona\n",
      "dark\n",
      "crazy\n"
     ]
    }
   ],
   "source": [
    "# criando uma lista e imprimindo cada um dos valores \n",
    "lista = [\"joana\", \"dark\", \"crazy\"]\n",
    "lista\n",
    "\n",
    "for nome in lista:\n",
    "    print(nome)"
   ]
  },
  {
   "cell_type": "code",
   "execution_count": 51,
   "metadata": {},
   "outputs": [
    {
     "name": "stdout",
     "output_type": "stream",
     "text": [
      "0\n",
      "1\n",
      "2\n",
      "3\n",
      "4\n",
      "5\n",
      "6\n",
      "7\n",
      "8\n",
      "9\n",
      "10\n",
      "11\n",
      "12\n",
      "13\n",
      "14\n",
      "15\n",
      "16\n",
      "17\n",
      "18\n",
      "19\n",
      "20\n",
      "21\n",
      "22\n",
      "23\n",
      "24\n",
      "25\n",
      "26\n",
      "27\n",
      "28\n",
      "29\n",
      "30\n",
      "31\n",
      "32\n",
      "33\n",
      "34\n",
      "35\n",
      "36\n",
      "37\n",
      "38\n",
      "39\n",
      "40\n",
      "41\n",
      "42\n",
      "43\n",
      "44\n",
      "45\n",
      "46\n",
      "47\n",
      "48\n",
      "49\n",
      "50\n",
      "51\n",
      "52\n",
      "53\n",
      "54\n",
      "55\n",
      "56\n",
      "57\n",
      "58\n",
      "59\n",
      "60\n",
      "61\n",
      "62\n",
      "63\n",
      "64\n",
      "65\n",
      "66\n",
      "67\n",
      "68\n",
      "69\n",
      "70\n",
      "71\n",
      "72\n",
      "73\n",
      "74\n",
      "75\n",
      "76\n",
      "77\n",
      "78\n",
      "79\n",
      "80\n",
      "81\n",
      "82\n",
      "83\n",
      "84\n",
      "85\n",
      "86\n",
      "87\n",
      "88\n",
      "89\n",
      "90\n",
      "91\n",
      "92\n",
      "93\n",
      "94\n",
      "95\n",
      "96\n",
      "97\n",
      "98\n",
      "99\n"
     ]
    }
   ],
   "source": [
    "# Imprimindo os valores no intervalor entre 0 e 5 (exclusive)\n",
    "for contador in range(0,100):\n",
    "    print(contador)\n",
    "\n"
   ]
  },
  {
   "cell_type": "code",
   "execution_count": 64,
   "metadata": {},
   "outputs": [
    {
     "name": "stdout",
     "output_type": "stream",
     "text": [
      "0\n",
      "1\n",
      "2\n",
      "3\n",
      "4\n"
     ]
    }
   ],
   "source": [
    "#Imprimindo na tela os números pares da lista de número \n",
    "for contador in range(0,5):\n",
    "    print (contador)\n"
   ]
  },
  {
   "cell_type": "code",
   "execution_count": 67,
   "metadata": {},
   "outputs": [
    {
     "name": "stdout",
     "output_type": "stream",
     "text": [
      "0\n",
      "4\n",
      "8\n",
      "12\n",
      "16\n",
      "20\n",
      "24\n",
      "28\n",
      "32\n",
      "36\n",
      "40\n",
      "44\n",
      "48\n",
      "52\n",
      "56\n",
      "60\n",
      "64\n",
      "68\n",
      "72\n",
      "76\n",
      "80\n",
      "84\n",
      "88\n",
      "92\n",
      "96\n",
      "100\n",
      "104\n"
     ]
    }
   ],
   "source": [
    "for i in range(0,108,4):\n",
    "   print (i)\n"
   ]
  },
  {
   "cell_type": "code",
   "execution_count": 69,
   "metadata": {},
   "outputs": [
    {
     "name": "stdout",
     "output_type": "stream",
     "text": [
      "2\n",
      "3\n",
      "4\n",
      "5\n",
      "6\n",
      "7\n",
      "8\n",
      "9\n",
      "10\n",
      "11\n",
      "12\n",
      "13\n",
      "14\n",
      "15\n",
      "16\n",
      "17\n",
      "18\n",
      "19\n",
      "20\n",
      "21\n",
      "22\n",
      "23\n",
      "24\n",
      "25\n",
      "26\n",
      "27\n",
      "28\n",
      "29\n",
      "2\n",
      "3\n",
      "4\n",
      "5\n",
      "6\n",
      "7\n",
      "8\n",
      "9\n",
      "10\n",
      "11\n",
      "12\n",
      "13\n",
      "14\n",
      "15\n",
      "16\n",
      "17\n",
      "18\n",
      "19\n",
      "20\n",
      "21\n",
      "22\n",
      "23\n",
      "24\n",
      "25\n",
      "26\n",
      "27\n",
      "28\n",
      "29\n",
      "2\n",
      "3\n",
      "4\n",
      "5\n",
      "6\n",
      "7\n",
      "8\n",
      "9\n",
      "10\n",
      "11\n",
      "12\n",
      "13\n",
      "14\n",
      "15\n",
      "16\n",
      "17\n",
      "18\n",
      "19\n",
      "20\n",
      "21\n",
      "22\n",
      "23\n",
      "24\n",
      "25\n",
      "26\n",
      "27\n",
      "28\n",
      "29\n",
      "2\n",
      "3\n",
      "4\n",
      "5\n",
      "6\n",
      "7\n",
      "8\n",
      "9\n",
      "10\n",
      "11\n",
      "12\n",
      "13\n",
      "14\n",
      "15\n",
      "16\n",
      "17\n",
      "18\n",
      "19\n",
      "20\n",
      "21\n",
      "22\n",
      "23\n",
      "24\n",
      "25\n",
      "26\n",
      "27\n",
      "28\n",
      "29\n",
      "2\n",
      "3\n",
      "4\n",
      "5\n",
      "6\n",
      "7\n",
      "8\n",
      "9\n",
      "10\n",
      "11\n",
      "12\n",
      "13\n",
      "14\n",
      "15\n",
      "16\n",
      "17\n",
      "18\n",
      "19\n",
      "20\n",
      "21\n",
      "22\n",
      "23\n",
      "24\n",
      "25\n",
      "26\n",
      "27\n",
      "28\n",
      "29\n",
      "2\n",
      "3\n",
      "4\n",
      "5\n",
      "6\n",
      "7\n",
      "8\n",
      "9\n",
      "10\n",
      "11\n",
      "12\n",
      "13\n",
      "14\n",
      "15\n",
      "16\n",
      "17\n",
      "18\n",
      "19\n",
      "20\n",
      "21\n",
      "22\n",
      "23\n",
      "24\n",
      "25\n",
      "26\n",
      "27\n",
      "28\n",
      "29\n",
      "2\n",
      "3\n",
      "4\n",
      "5\n",
      "6\n",
      "7\n",
      "8\n",
      "9\n",
      "10\n",
      "11\n",
      "12\n",
      "13\n",
      "14\n",
      "15\n",
      "16\n",
      "17\n",
      "18\n",
      "19\n",
      "20\n",
      "21\n",
      "22\n",
      "23\n",
      "24\n",
      "25\n",
      "26\n",
      "27\n",
      "28\n",
      "29\n",
      "2\n",
      "3\n",
      "4\n",
      "5\n",
      "6\n",
      "7\n",
      "8\n",
      "9\n",
      "10\n",
      "11\n",
      "12\n",
      "13\n",
      "14\n",
      "15\n",
      "16\n",
      "17\n",
      "18\n",
      "19\n",
      "20\n",
      "21\n",
      "22\n",
      "23\n",
      "24\n",
      "25\n",
      "26\n",
      "27\n",
      "28\n",
      "29\n",
      "2\n",
      "3\n",
      "4\n",
      "5\n",
      "6\n",
      "7\n",
      "8\n",
      "9\n",
      "10\n",
      "11\n",
      "12\n",
      "13\n",
      "14\n",
      "15\n",
      "16\n",
      "17\n",
      "18\n",
      "19\n",
      "20\n",
      "21\n",
      "22\n",
      "23\n",
      "24\n",
      "25\n",
      "26\n",
      "27\n",
      "28\n",
      "29\n",
      "2\n",
      "3\n",
      "4\n",
      "5\n",
      "6\n",
      "7\n",
      "8\n",
      "9\n",
      "10\n",
      "11\n",
      "12\n",
      "13\n",
      "14\n",
      "15\n",
      "16\n",
      "17\n",
      "18\n",
      "19\n",
      "20\n",
      "21\n",
      "22\n",
      "23\n",
      "24\n",
      "25\n",
      "26\n",
      "27\n",
      "28\n",
      "29\n"
     ]
    }
   ],
   "source": [
    "# loops aninhados\n",
    "for a in range(0,10):\n",
    "    for b in range(2,30):\n",
    "        print(b)"
   ]
  },
  {
   "cell_type": "code",
   "execution_count": 77,
   "metadata": {},
   "outputs": [
    {
     "name": "stdout",
     "output_type": "stream",
     "text": [
      "155\n"
     ]
    }
   ],
   "source": [
    "# Operando os valores de uma lista com loop for \n",
    "listaa = [3,5,8,10,15,17,19]\n",
    "soma = 1 \n",
    "for i in listaa:\n",
    "    double_i = i * 2\n",
    "    soma += double_i\n",
    "print (soma)\n"
   ]
  },
  {
   "cell_type": "code",
   "execution_count": 83,
   "metadata": {},
   "outputs": [
    {
     "name": "stdout",
     "output_type": "stream",
     "text": [
      "5\n"
     ]
    }
   ],
   "source": [
    "# Contando os itens de uma lista\n",
    "lista = [5,6,7,8,9]\n",
    "count = 0\n",
    "for i in lista:\n",
    "    count += 1\n",
    "\n",
    "print (count) "
   ]
  },
  {
   "cell_type": "code",
   "execution_count": 86,
   "metadata": {},
   "outputs": [
    {
     "name": "stdout",
     "output_type": "stream",
     "text": [
      "3\n"
     ]
    }
   ],
   "source": [
    "# contando numero de colunas \n",
    "lst = [[1,2,3], [4,6,7], [2,6,5,7,7]]\n",
    "primeira_linha = lst[0]\n",
    "count = 0 \n",
    "for colina in primeira_linha:\n",
    "    count = count + 1 \n",
    "    \n",
    "print(count)"
   ]
  },
  {
   "cell_type": "code",
   "execution_count": 88,
   "metadata": {},
   "outputs": [
    {
     "name": "stdout",
     "output_type": "stream",
     "text": [
      "número encontrado\n"
     ]
    }
   ],
   "source": [
    "# pesquisando em listas\n",
    "listac = [5,6,7,8,9]\n",
    "\n",
    "for item in listac:\n",
    "    if item == 5:\n",
    "        print ('número encontrado')\n",
    "    \n"
   ]
  },
  {
   "cell_type": "code",
   "execution_count": 94,
   "metadata": {},
   "outputs": [
    {
     "name": "stdout",
     "output_type": "stream",
     "text": [
      "0\n",
      "1\n",
      "2\n",
      "3\n",
      "4\n",
      "5\n",
      "6\n",
      "7\n",
      "8\n",
      "9\n"
     ]
    }
   ],
   "source": [
    "# usando o loop while para imprimir valores de 0 a 9\n",
    "counter = 0\n",
    "while counter < 10:\n",
    "    print(counter)\n",
    "    counter = counter + 1"
   ]
  },
  {
   "cell_type": "code",
   "execution_count": 95,
   "metadata": {},
   "outputs": [
    {
     "name": "stdout",
     "output_type": "stream",
     "text": [
      "x é:  0\n",
      "vou continuar\n",
      "x é:  1\n",
      "vou continuar\n",
      "x é:  2\n",
      "vou continuar\n",
      "x é:  3\n",
      "vou continuar\n",
      "x é:  4\n",
      "vou continuar\n",
      "x é:  5\n",
      "vou continuar\n",
      "x é:  6\n",
      "vou continuar\n",
      "x é:  7\n",
      "vou continuar\n",
      "x é:  8\n",
      "vou continuar\n",
      "x é:  9\n",
      "vou continuar\n",
      "acabei aqui \n"
     ]
    }
   ],
   "source": [
    "#usando else para encerrar while \n",
    "x = 0\n",
    "while x < 10:\n",
    "    print ('x é: ' ,x)\n",
    "    print ('vou continuar')\n",
    "    x += 1\n",
    "    \n",
    "else:\n",
    "    print (\"acabei aqui \")"
   ]
  },
  {
   "cell_type": "code",
   "execution_count": 99,
   "metadata": {},
   "outputs": [
    {
     "name": "stdout",
     "output_type": "stream",
     "text": [
      "0\n",
      "1\n",
      "2\n",
      "3\n"
     ]
    }
   ],
   "source": [
    "#pass, break, continue \n",
    "counter = 0\n",
    "while counter < 100:\n",
    "    if counter == 4:\n",
    "        break\n",
    "    else:\n",
    "        pass\n",
    "    print (counter)\n",
    "    counter = counter + 1\n"
   ]
  },
  {
   "cell_type": "code",
   "execution_count": 100,
   "metadata": {},
   "outputs": [
    {
     "name": "stdout",
     "output_type": "stream",
     "text": [
      "P\n",
      "y\n",
      "t\n",
      "o\n",
      "n\n"
     ]
    }
   ],
   "source": [
    "for verificador in \"Python\":\n",
    "    if verificador == \"h\":\n",
    "        continue\n",
    "    print(verificador)\n"
   ]
  },
  {
   "cell_type": "code",
   "execution_count": 106,
   "metadata": {},
   "outputs": [
    {
     "name": "stdout",
     "output_type": "stream",
     "text": [
      "2é um número primo\n",
      "3é um número primo\n",
      "5é um número primo\n",
      "7é um número primo\n",
      "11é um número primo\n",
      "13é um número primo\n",
      "17é um número primo\n",
      "19é um número primo\n",
      "23é um número primo\n",
      "29é um número primo\n"
     ]
    }
   ],
   "source": [
    "for i in range(2,30):\n",
    "    j = 2\n",
    "    counter = 0\n",
    "    while j < i:\n",
    "        if i % j == 0:\n",
    "            counter = 1\n",
    "            j = j + 1\n",
    "        else:\n",
    "            j = j + 1\n",
    "    if counter == 0:\n",
    "        print(str(i) + \"é um número primo\")\n",
    "        counter = 0\n",
    "    else: \n",
    "        counter = 0\n",
    "        \n",
    "    \n"
   ]
  },
  {
   "cell_type": "code",
   "execution_count": 108,
   "metadata": {},
   "outputs": [
    {
     "name": "stdout",
     "output_type": "stream",
     "text": [
      "qual o dia da semana?a\n",
      "trabalhaaa\n"
     ]
    }
   ],
   "source": [
    "#exercicio 1 \n",
    "a = input('qual o dia da semana?')\n",
    "if a == 'domingo' or a == 'sabado':\n",
    "    print('duuuurma')\n",
    "else:\n",
    "    print('trabalhaaa')"
   ]
  },
  {
   "cell_type": "code",
   "execution_count": 112,
   "metadata": {},
   "outputs": [
    {
     "name": "stdout",
     "output_type": "stream",
     "text": [
      "achei safado\n",
      "bora continuar\n",
      "bora continuar\n",
      "bora continuar\n",
      "bora continuar\n"
     ]
    }
   ],
   "source": [
    "#exercicio 2 \n",
    "frutas =['morango','pera','uva','maca','bacate']\n",
    "for i in frutas:\n",
    "    if i == 'morango':\n",
    "        print('achei safado')\n",
    "    else: \n",
    "        print('bora continuar')"
   ]
  },
  {
   "cell_type": "code",
   "execution_count": 120,
   "metadata": {},
   "outputs": [
    {
     "name": "stdout",
     "output_type": "stream",
     "text": [
      "[2, 4, 6, 8]\n"
     ]
    }
   ],
   "source": [
    "#exercicio 3 \n",
    "tupla = (1,2,3,4)\n",
    "lista = []\n",
    "for i in tupla:\n",
    "    novo_valor = i * 2\n",
    "    lista.append(novo_valor)\n",
    "    \n",
    "print(lista)\n",
    "    "
   ]
  },
  {
   "cell_type": "code",
   "execution_count": 116,
   "metadata": {},
   "outputs": [
    {
     "data": {
      "text/plain": [
       "2"
      ]
     },
     "execution_count": 116,
     "metadata": {},
     "output_type": "execute_result"
    }
   ],
   "source": [
    "tupla = (1,2,3,4)\n",
    "tupla[1]"
   ]
  },
  {
   "cell_type": "code",
   "execution_count": 127,
   "metadata": {},
   "outputs": [
    {
     "name": "stdout",
     "output_type": "stream",
     "text": [
      "100\n",
      "102\n",
      "104\n",
      "106\n",
      "108\n",
      "110\n",
      "112\n",
      "114\n",
      "116\n",
      "118\n",
      "120\n",
      "122\n",
      "124\n",
      "126\n",
      "128\n",
      "130\n",
      "132\n",
      "134\n",
      "136\n",
      "138\n",
      "140\n",
      "142\n",
      "144\n",
      "146\n",
      "148\n"
     ]
    }
   ],
   "source": [
    "#exercicio 4 \n",
    "for a in range(100,150,2):\n",
    "    print (a)\n"
   ]
  },
  {
   "cell_type": "code",
   "execution_count": 130,
   "metadata": {},
   "outputs": [
    {
     "name": "stdout",
     "output_type": "stream",
     "text": [
      "40\n",
      "39\n",
      "38\n",
      "37\n",
      "36\n"
     ]
    }
   ],
   "source": [
    "#exercicio 5 \n",
    "temperatura = 40\n",
    "while temperatura > 35:\n",
    "    print (temperatura)\n",
    "    temperatura = temperatura - 1"
   ]
  },
  {
   "cell_type": "code",
   "execution_count": 135,
   "metadata": {},
   "outputs": [
    {
     "name": "stdout",
     "output_type": "stream",
     "text": [
      "0\n",
      "1\n",
      "2\n",
      "3\n",
      "4\n",
      "5\n",
      "6\n",
      "7\n",
      "8\n",
      "9\n",
      "10\n",
      "11\n",
      "12\n",
      "13\n",
      "14\n",
      "15\n",
      "16\n",
      "17\n",
      "18\n",
      "19\n",
      "20\n",
      "21\n",
      "22\n",
      "23\n"
     ]
    }
   ],
   "source": [
    "#exercicio 6 \n",
    "counter = 0\n",
    "while counter < 100:\n",
    "    print (counter)\n",
    "    if counter == 23:\n",
    "        break\n",
    "\n",
    "    counter = counter + 1\n"
   ]
  },
  {
   "cell_type": "code",
   "execution_count": 138,
   "metadata": {},
   "outputs": [
    {
     "name": "stdout",
     "output_type": "stream",
     "text": [
      "[4, 6, 8, 10, 12, 14, 16, 18, 20]\n"
     ]
    }
   ],
   "source": [
    "#exercicios 7 \n",
    "numeros = list()\n",
    "i = 4\n",
    "while (i <= 20):\n",
    "    numeros.append(i)\n",
    "    i = i+2\n",
    "print(numeros)"
   ]
  },
  {
   "cell_type": "code",
   "execution_count": 142,
   "metadata": {},
   "outputs": [
    {
     "data": {
      "text/plain": [
       "[5, 7, 9, 11, 13, 15, 17, 19, 21, 23, 25, 27, 29, 31, 33, 35, 37, 39, 41, 43]"
      ]
     },
     "execution_count": 142,
     "metadata": {},
     "output_type": "execute_result"
    }
   ],
   "source": [
    "#exercicios 8\n",
    "lista = list()\n",
    "for i in range(5, 45, 2):\n",
    "    lista.append(i)\n",
    "    \n",
    "lista\n"
   ]
  },
  {
   "cell_type": "code",
   "execution_count": 148,
   "metadata": {},
   "outputs": [
    {
     "name": "stdout",
     "output_type": "stream",
     "text": [
      "Qual a temperatura? 89\n",
      "Vista roupas leves.\n"
     ]
    }
   ],
   "source": [
    "#exercicio 9 \n",
    "temperatura = float(input('Qual a temperatura? '))\n",
    "if temperatura > 30:\n",
    "    print('Vista roupas leves.')\n",
    "else:\n",
    "    print('Busque seus casacos.')\n",
    "\n",
    "        \n",
    "   "
   ]
  },
  {
   "cell_type": "code",
   "execution_count": 155,
   "metadata": {},
   "outputs": [
    {
     "name": "stdout",
     "output_type": "stream",
     "text": [
      "O caracter a aparece 9 vezes na frase.\n"
     ]
    }
   ],
   "source": [
    "#exercicio 10\n",
    "frase = \"É melhor, muito melhor, contentar-se com a realidade; se ela não é tão brilhante como os sonhos, tem pelo menos a vantagem de existir.\" \n",
    "count = 0\n",
    "for caracter in frase:\n",
    "    if caracter == 'a':\n",
    "        count += 1\n",
    "print(\"O caracter a aparece %s vezes na frase.\" %(count))"
   ]
  },
  {
   "cell_type": "code",
   "execution_count": 157,
   "metadata": {},
   "outputs": [
    {
     "name": "stdout",
     "output_type": "stream",
     "text": [
      "462\n"
     ]
    }
   ],
   "source": [
    "listaB = [32,53,85,10,15,17,19]\n",
    "soma = 0\n",
    "for i in listaB:\n",
    "    double_i = i * 2\n",
    "    soma += double_i\n",
    "print(soma)"
   ]
  }
 ],
 "metadata": {
  "kernelspec": {
   "display_name": "Python 3",
   "language": "python",
   "name": "python3"
  },
  "language_info": {
   "codemirror_mode": {
    "name": "ipython",
    "version": 3
   },
   "file_extension": ".py",
   "mimetype": "text/x-python",
   "name": "python",
   "nbconvert_exporter": "python",
   "pygments_lexer": "ipython3",
   "version": "3.6.3"
  }
 },
 "nbformat": 4,
 "nbformat_minor": 2
}
